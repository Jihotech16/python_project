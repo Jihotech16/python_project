{
 "cells": [
  {
   "attachments": {},
   "cell_type": "markdown",
   "metadata": {},
   "source": [
    "# 제어문이란?\n",
    "\n",
    "돈이 있으면 물건을 사고, 돈이 없으면 물건을 살 수 없다.\n",
    "보통 게임 속에서 많이 일어날 수 있는 상황 중 하나입니다. 위 문장 처럼 조건을 판단한 후 그 상황에 맞게 처리해야 할 경우가 생기게 됩니다.\n",
    "프로그래밍에서 조건을 판단하여 해당 조건에 맞는 상황을 수행하는 데 쓰는 것이 바로 if문 입니다."
   ]
  },
  {
   "cell_type": "code",
   "execution_count": null,
   "metadata": {},
   "outputs": [],
   "source": [
    "money = True\n",
    "if money:\n",
    "    print(\"물건을 살 수 있습니다.\")\n",
    "else:\n",
    "    print(\"물건을 살 수 없습니다.\")"
   ]
  },
  {
   "attachments": {},
   "cell_type": "markdown",
   "metadata": {},
   "source": [
    "# if문의 기본 구조"
   ]
  },
  {
   "attachments": {},
   "cell_type": "markdown",
   "metadata": {},
   "source": [
    "if 조건문:\n",
    "    수행할 문장1\n",
    "    수행할 문장2\n",
    "    ...\n",
    "else:\n",
    "    수행할 문장A\n",
    "    수행할 문장B\n",
    "    ..."
   ]
  },
  {
   "attachments": {},
   "cell_type": "markdown",
   "metadata": {},
   "source": [
    "조건문이 참이면 if문 바로 다음 문장들을 수행하고, 거짓이면 else문 다음 문장들을 수행하게 됩니다."
   ]
  },
  {
   "attachments": {},
   "cell_type": "markdown",
   "metadata": {},
   "source": [
    "또한, if문을 만들 때는 if 조건문: 바로 아래 문장부터 if문에 속해 있는 모든 문장을 들여쓰기해야 함에 유의합니다. 보통은 Spacebar 혹은 Tab 중 한개로 통일합니다."
   ]
  },
  {
   "attachments": {},
   "cell_type": "markdown",
   "metadata": {},
   "source": [
    "if 조건문:\n",
    "    수행할 문장1\n",
    "    수행할 문장2\n",
    "    수행할 문장3"
   ]
  },
  {
   "attachments": {},
   "cell_type": "markdown",
   "metadata": {},
   "source": [
    "아래에서는 돈이 부족할 경우 물건을 살 수 없다는 문구와 함께 돈이 필요하다는 안내문을 출력하고자 합니다. 돈이 있는 경우에는 물건을 살 수 있다는 안내문 만을 출력하고자 할 때 들여쓰기가 다른 상황에서 실행시켜봅시다."
   ]
  },
  {
   "cell_type": "code",
   "execution_count": null,
   "metadata": {},
   "outputs": [],
   "source": [
    "money = True\n",
    "if money:\n",
    "    print(\"물건을 살 수 있습니다.\")\n",
    "else:\n",
    "    print(\"물건을 살 수 없습니다.\")\n",
    "        print(\"돈이 필요합니다.\")"
   ]
  },
  {
   "attachments": {},
   "cell_type": "markdown",
   "metadata": {},
   "source": [
    "# 조건문이란?\n",
    "\n",
    "조건문이란 참과 거짓을 판단하는 문장을 말한다.\n",
    "위의 예시들에서 조건문은 money 이다.\n",
    "\n",
    "```python\n",
    "money = True\n",
    "if money:\n",
    "```\n",
    "\n",
    "에서 money는 True이기에 조건이 참이 되어 if문 다음 문장을 실행하게 됩니다."
   ]
  },
  {
   "attachments": {},
   "cell_type": "markdown",
   "metadata": {},
   "source": [
    "## 비교 연산자\n",
    "\n",
    "|비교 연산자|설명|\n",
    "|:---:|:---:|\n",
    "|x < y|x가 y보다 작다|\n",
    "|x > y|x가 y보다 크다|\n",
    "|x == y|x와 y가 같다|\n",
    "|x != y|x와 y가 같지 않다|\n",
    "|x >= y|x가 y보다 크거나 같다|\n",
    "|x <= y|x가 y보다 작거나 같다|\n",
    "\n",
    "위의 표를 참고하여 아래 코드를 실행시켜봅시다."
   ]
  },
  {
   "cell_type": "code",
   "execution_count": null,
   "metadata": {},
   "outputs": [],
   "source": [
    "x = 1\n",
    "y = 2\n",
    "x > y"
   ]
  },
  {
   "attachments": {},
   "cell_type": "markdown",
   "metadata": {},
   "source": [
    "x에 1을, y에 2를 대입한 다음에 x > y 라는 조건문을 수행하면 False를 돌려준다. x > y 조건문이 거짓이기 때문이다.\n",
    "\n",
    "마찬가지로 아래 코드들도 실행시켜 보면서 출력값을 확인해봅시다."
   ]
  },
  {
   "cell_type": "code",
   "execution_count": null,
   "metadata": {},
   "outputs": [],
   "source": [
    "x > y"
   ]
  },
  {
   "cell_type": "code",
   "execution_count": null,
   "metadata": {},
   "outputs": [],
   "source": [
    "x == y"
   ]
  },
  {
   "cell_type": "code",
   "execution_count": null,
   "metadata": {},
   "outputs": [],
   "source": [
    "x != y"
   ]
  },
  {
   "attachments": {},
   "cell_type": "markdown",
   "metadata": {},
   "source": [
    "<예제>\n",
    "아래 문구를 보고 코드를 완성시켜 봅시다.\n",
    "\n",
    "\"만약 돈이 2,000원 이상 있다면 아이스크림을 사고, 없다면 집에 바로 가세요\""
   ]
  },
  {
   "cell_type": "code",
   "execution_count": null,
   "metadata": {},
   "outputs": [],
   "source": [
    "money = 2000\n",
    "print(\"아이스크림을 사세요\")\n",
    "print(\"집으로 바로 가세요\")"
   ]
  },
  {
   "attachments": {},
   "cell_type": "markdown",
   "metadata": {},
   "source": [
    "### and, or, not\n",
    "|연산자|설명|\n",
    "|:---:|:---:|\n",
    "|x or y|x와 y 둘 중에 하나만 참이면 참이다|\n",
    "|x and y|x와 y 모두 참이어야 참이다|\n",
    "|not x|x가 거짓이면 참이다|\n",
    "\n",
    "위를 참고하여 아래 문구를 보고 코드를 완성시켜 봅시다.\n",
    "\n",
    "\"돈이 2,000원 이상 있거나 카드가 있다면 아이스크림을 사고 그렇지 않으면 집으로 가세요\" "
   ]
  },
  {
   "cell_type": "code",
   "execution_count": null,
   "metadata": {},
   "outputs": [],
   "source": [
    "money = 1000\n",
    "card = True\n",
    "print(\"아이스크림을 사세요\")\n",
    "print(\"집으로 바로 가세요\")"
   ]
  },
  {
   "attachments": {},
   "cell_type": "markdown",
   "metadata": {},
   "source": [
    "### x is s, x not in s\n",
    "|in|not in|\n",
    "|:---:|:---:|\n",
    "|x in 리스트|x not in 리스트|\n",
    "|x in 튜플|x not in 튜플|\n",
    "|x in 문자열|x not in 문자열|"
   ]
  },
  {
   "cell_type": "code",
   "execution_count": null,
   "metadata": {},
   "outputs": [],
   "source": [
    "1 in [1, 2, 3]"
   ]
  },
  {
   "cell_type": "code",
   "execution_count": null,
   "metadata": {},
   "outputs": [],
   "source": [
    "'a' not in ['a', 'b', 'c']"
   ]
  },
  {
   "attachments": {},
   "cell_type": "markdown",
   "metadata": {},
   "source": [
    "다음 예제에 in을 적용시켜 코드를 완성하여 봅시다.\n",
    "\"만약 가방에 돈이 있다면 아이스크림을 사고, 없으면 집에 바로 가세요\""
   ]
  },
  {
   "cell_type": "code",
   "execution_count": null,
   "metadata": {},
   "outputs": [],
   "source": [
    "bag = ['money','cellphone','card']\n",
    "print(\"아이스크림을 사세요\")\n",
    "print(\"집에 바로 가세요\")"
   ]
  },
  {
   "attachments": {},
   "cell_type": "markdown",
   "metadata": {},
   "source": [
    "\"가방에 돈이 없다면 집에 바로 가고, 돈이 있다면 아이스크림을 사세요.\""
   ]
  },
  {
   "cell_type": "code",
   "execution_count": null,
   "metadata": {},
   "outputs": [],
   "source": [
    "bag = ['money','cellphone','card']\n",
    "print(\"집에 바로 가세요\")\n",
    "print(\"아이스크림을 사세요\")"
   ]
  },
  {
   "attachments": {},
   "cell_type": "markdown",
   "metadata": {},
   "source": [
    "조건문에서 아무 일도 일어나지 않게 하고 싶을 경우 pass를 사용해봅시다.\n",
    "\n",
    "아래 문구를 보고 pass를 사용하여 코드를 완성시켜봅시다.\n",
    "\n",
    "\"가방에 이미 아이스크림이 있다면 가만히 있고, 없다면 아이스크림을 사세요.\""
   ]
  },
  {
   "cell_type": "code",
   "execution_count": null,
   "metadata": {},
   "outputs": [],
   "source": [
    "bag = ['money','cellphone','card', 'icecream']\n",
    "pass\n",
    "print(\"아이스크림을 사세요\")"
   ]
  },
  {
   "attachments": {},
   "cell_type": "markdown",
   "metadata": {},
   "source": [
    "## elif의 사용\n",
    "\n",
    "다음 문구를 if와 else만을 사용하여 표현해봅시다.\n",
    "\n",
    "\"가방에 돈이 있다면 아이스크림을 사고, 돈은 없지만 카드가 있다면 아이스크림을 사고, 돈도 카드도 없다면 집에 바로 가세요\""
   ]
  },
  {
   "cell_type": "code",
   "execution_count": null,
   "metadata": {},
   "outputs": [],
   "source": [
    "bag = ['money', 'cellphone']\n",
    "card = True\n",
    "if 'money' in bag: # 가방에 돈이 있다면\n",
    "    print(\"아이스크림을 사세요\")\n",
    "else:\n",
    "    if card: # 가방에 돈은 없지만 카드가 있다면\n",
    "        print(\"아이스크림을 사세요\")\n",
    "    else: # 가방에 돈이 없고, 카드도 없다면\n",
    "        print(\"집에 바로 가세요\")"
   ]
  },
  {
   "attachments": {},
   "cell_type": "markdown",
   "metadata": {},
   "source": [
    "이를 elif를 이용하여 다시 표현해봅시다."
   ]
  },
  {
   "cell_type": "code",
   "execution_count": null,
   "metadata": {},
   "outputs": [],
   "source": [
    "bag = ['money', 'cellphone']\n",
    "card = True\n",
    "if 'money' in bag: # 가방에 돈이 있다면\n",
    "    print(\"아이스크림을 사세요\")\n",
    "elif card: # 가방에 돈은 없지만 카드가 있다면\n",
    "    print(\"아이스크림을 사세요\")\n",
    "else: # 가방에 돈이 없고, 카드도 없다면\n",
    "    print(\"집에 바로 가세요\")"
   ]
  },
  {
   "attachments": {},
   "cell_type": "markdown",
   "metadata": {},
   "source": [
    "elif는 이전 조건문이 거짓일 경우 실행되며, 개수에 제한이 없습니다."
   ]
  },
  {
   "attachments": {},
   "cell_type": "markdown",
   "metadata": {},
   "source": [
    "#### if문 한 줄로 작성하기\n",
    "\n",
    "if문에서 수행할 문장이 단순할 때 코드를 조금 더 간략하게 표현할 수 있습니다. 아래 코드를 살펴봅시다."
   ]
  },
  {
   "cell_type": "code",
   "execution_count": null,
   "metadata": {},
   "outputs": [],
   "source": [
    "bad = ['sword', 'potion']\n",
    "if 'sword' in bag:\n",
    "    pass\n",
    "else:\n",
    "    print(\"무기가 필요합니다.\")"
   ]
  },
  {
   "cell_type": "code",
   "execution_count": null,
   "metadata": {},
   "outputs": [],
   "source": [
    "bad = ['sword', 'potion']\n",
    "if 'sword' in bag: pass\n",
    "else: print(\"무기가 필요합니다.\")"
   ]
  },
  {
   "attachments": {},
   "cell_type": "markdown",
   "metadata": {},
   "source": [
    "둘 다 실행시켜봅시다."
   ]
  },
  {
   "attachments": {},
   "cell_type": "markdown",
   "metadata": {},
   "source": [
    "## 조건부 표현식\n",
    "\n",
    "놀이기구를 탈 때 탑승여부를 키로 판단하여 알려주는 코드 중의 일부를 봅시다.\n",
    "\n",
    "```python\n",
    "if height >= 140:\n",
    "    result = \"가능\"\n",
    "else:\n",
    "    result = \"불가능\"\n",
    "```\n",
    "\n",
    "위 코드는 height가 140 이상일 경우 result에 \"가능\" 문자열을, 아닐 경우에는 result에 \"불가능\" 문자열을 대입하는 코드이다.\n",
    "\n",
    "이를 조건부 표현식을 사용하면 다음과 같이 나타낼 수 있다.\n",
    "\n",
    "```python\n",
    "result = \"가능\" if height >= 140 else \"불가능\"\n",
    "```\n",
    "\n",
    "다시 정리하면 조건부 표현식은 다음과 같이 사용한다.\n",
    "> 조건문이 참인 경우 if 조건문 else 조건문이 거짓인 경우"
   ]
  }
 ],
 "metadata": {
  "kernelspec": {
   "display_name": "Python 3",
   "language": "python",
   "name": "python3"
  },
  "language_info": {
   "codemirror_mode": {
    "name": "ipython",
    "version": 3
   },
   "file_extension": ".py",
   "mimetype": "text/x-python",
   "name": "python",
   "nbconvert_exporter": "python",
   "pygments_lexer": "ipython3",
   "version": "3.11.2"
  },
  "orig_nbformat": 4
 },
 "nbformat": 4,
 "nbformat_minor": 2
}
