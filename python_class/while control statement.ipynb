{
 "cells": [
  {
   "attachments": {},
   "cell_type": "markdown",
   "metadata": {},
   "source": [
    "# while문\n",
    "## while문 기본 구조\n",
    "반복해서 문장을 실행시킬 경우 while문을 사용합니다. 그런 이유로 반복문이라고도 합니다.\n",
    "while문의 기본 구조는 다음과 같습니다.\n",
    "\n",
    "```python\n",
    "while 조건문:\n",
    "    실핼할 문장1\n",
    "    실행할 문장2\n",
    "    실행할 문장3\n",
    "    ...\n",
    "```\n",
    "\n",
    "while문은 조건문이 참인 동안에 while문 아래의 문장을 반복해서 실행시킵니다.\n",
    "\n",
    "'양을 5마리 세면 잠이 듭니다'를 파이썬 코드로 작성하면 다음과 같이 표현할 수 있습니다."
   ]
  },
  {
   "cell_type": "code",
   "execution_count": null,
   "metadata": {},
   "outputs": [],
   "source": [
    "sheep_count = 0\n",
    "while sheep_count < 5:\n",
    "    sheep_count = sheep_count + 1\n",
    "    print(\"양 %d마리\" % sheep_count)\n",
    "    if sheep_count == 5:\n",
    "        print(\"잠이 듭니다.\")"
   ]
  },
  {
   "attachments": {},
   "cell_type": "markdown",
   "metadata": {},
   "source": [
    "위의 과정을 표로 정리하면 다음과 같습니다.\n",
    "\n",
    "|sheep_count|조건문|bool|출력 문장|while문|\n",
    "|:---:|:---:|:---:|:---:|:---:|\n",
    "|0|0 < 5|참|양 1마리|반복|\n",
    "|1|1 < 5|참|양 2마리|반복|\n",
    "|2|2 < 5|참|양 3마리|반복|\n",
    "|3|3 < 5|참|양 4마리|반복|\n",
    "|4|4 < 5|참|양 5마리, 잠이 듭니다|반복|\n",
    "|5|5 < 5|거짓||종료|"
   ]
  },
  {
   "attachments": {},
   "cell_type": "markdown",
   "metadata": {},
   "source": [
    "## while 문 만들기\n",
    "여러 가지 선택지 중에서 하나를 선택하여 입력 받는 예제를 만들어봅시다."
   ]
  },
  {
   "cell_type": "code",
   "execution_count": 2,
   "metadata": {},
   "outputs": [],
   "source": [
    "prompt = \"\"\"\n",
    "1. fight\n",
    "2. pass\n",
    "3. buy\n",
    "4. exit\n",
    "\"\"\""
   ]
  },
  {
   "cell_type": "code",
   "execution_count": null,
   "metadata": {},
   "outputs": [],
   "source": [
    "number = 0 # 번호를 입력 받을 변수\n",
    "while number != 4: # 입력받은 번호가 4가 아닌 동안 반복\n",
    "    print(prompt)\n",
    "    number = int(input())"
   ]
  },
  {
   "attachments": {},
   "cell_type": "markdown",
   "metadata": {},
   "source": [
    "여기서\n",
    "```python\n",
    "number = int(input())\n",
    "```\n",
    "은 사용자의 숫자 입력을 받아들이는 단계입니다."
   ]
  },
  {
   "attachments": {},
   "cell_type": "markdown",
   "metadata": {},
   "source": [
    "# while문 강제로 빠져나가기\n",
    "\n",
    "while문을 강제로 빠져나가고 싶은 경우 break문을 사용합니다.\n",
    "\n",
    "음료수 자판기를 예로 들어 봅시다. 자판기 안에 음료수가 있을 때에는 동전을 넣으면 음료수가 나오고, 음료수가 떨어졌다면 판매를 중단하고 '판매 중지' 안내를 사용자에게 알려주어야 합니다. 이 과정에서 음료수가 남아있는지를 항상 확인하여야 합니다.\n",
    "\n",
    "아래 코드는 음료수 자판기를 파이썬 프로그램으로 표현해 본 것입니다."
   ]
  },
  {
   "cell_type": "code",
   "execution_count": null,
   "metadata": {},
   "outputs": [],
   "source": [
    "drink = 10 # 자판기에 음료수가 10개 있다.\n",
    "money = 300 # 자판기에 넣을 돈은 300원이다.\n",
    "while money:\n",
    "    print(\"돈을 받았으니 음료수를 줍니다\")\n",
    "    drink = drink - 1\n",
    "    print(\"남은 음료수의 양은 %d입니다.\" % drink)\n",
    "    if drink == 0:\n",
    "        print(\"음료수가 다 떨어졌습니다. 판매를 중지합니다.\")\n",
    "        break"
   ]
  },
  {
   "attachments": {},
   "cell_type": "markdown",
   "metadata": {},
   "source": [
    "실제 자판기는 위 예처럼 작동하지는 않을 것입니다. 위는 money가 300으로 고정되어 있으모로, 무한 루프를 돌게 됩니다. 한번 실행 할 때마다 drink = drink -1에 의해서 drink의 개수가 1개씩 줄어듭니다. 만약 drink가 0이 되면 판매를 중지한다는 문구와 함께 break문을 출력하면서 while문을 빠져나가게 됩니다.\n",
    "\n",
    "다음은 실제 자판기와 비슷하게 만들어 본 예입니다. 작성 후에 참고하여 실행시켜 봅시다."
   ]
  },
  {
   "cell_type": "code",
   "execution_count": null,
   "metadata": {},
   "outputs": [],
   "source": [
    "drink = 10\n",
    "while True:\n",
    "    money = int(input(\"돈을 넣어 주세요: \"))\n",
    "    if money == 300:\n",
    "        print(\"음료수를 줍니다.\")\n",
    "        drink = drink - 1\n",
    "    elif money > 300:\n",
    "        print(\"거스름돈 %d를 주고 음료수를 줍니다.\" % (money-300))\n",
    "        drink = drink - 1\n",
    "    else:\n",
    "        print(\"돈을 돌려주고 음료수를 주지 않습니다.\")\n",
    "        print(\"남은 커피의 양은 %d개입니다.\" % drink)\n",
    "    if drink == 0:\n",
    "        print(\"음료수가 다 떨어졌습니다. 판매를 중지합니다.\")\n",
    "        break"
   ]
  },
  {
   "attachments": {},
   "cell_type": "markdown",
   "metadata": {},
   "source": [
    "## while문의 맨 처음으로 돌아가기\n",
    "\n",
    "break문은 while문의 빠져나가기만 합니다. while문을 빠져나가지 않고 while문의 맨 처음으로 돌아가고 만들게 하려면 continue문을 사용합니다."
   ]
  },
  {
   "cell_type": "code",
   "execution_count": null,
   "metadata": {},
   "outputs": [],
   "source": [
    "a = 0\n",
    "while a < 10:\n",
    "    a = a + 1\n",
    "    if a % 2 == 0: \n",
    "        continue\n",
    "    print(a)"
   ]
  },
  {
   "attachments": {},
   "cell_type": "markdown",
   "metadata": {},
   "source": [
    "위 예시는 1부터 10까지의 숫자 중 홀수 만을 출력하는 예시입니다. a가 짝수이면 continue 문장을 실행하여 맨 처음으로 돌아간다."
   ]
  },
  {
   "attachments": {},
   "cell_type": "markdown",
   "metadata": {},
   "source": [
    "### 예제\n",
    "1부터 10까지의 숫자 중에서 3의 배수를 뺀 나머지 값을 출력해 봅시다."
   ]
  },
  {
   "cell_type": "code",
   "execution_count": null,
   "metadata": {},
   "outputs": [],
   "source": []
  },
  {
   "attachments": {},
   "cell_type": "markdown",
   "metadata": {},
   "source": [
    "### 예제2\n",
    "\n",
    "while문을 사용하여 1부터 1000까지의 자연수 중 3의 배수의 합을 구해봅시다."
   ]
  },
  {
   "cell_type": "code",
   "execution_count": null,
   "metadata": {},
   "outputs": [],
   "source": []
  },
  {
   "attachments": {},
   "cell_type": "markdown",
   "metadata": {},
   "source": [
    "### 예제 3\n",
    "\n",
    "while 문을 사용하여 다음과 같이 별(*)을 표시하는 프로그램을 사용해봅시다.\n",
    "\n",
    "\n",
    "\\*<br>\n",
    "\\** <br>\n",
    "\\*** <br>\n",
    "\\**** <br>\n",
    "\\***** <br>\n"
   ]
  },
  {
   "cell_type": "code",
   "execution_count": null,
   "metadata": {},
   "outputs": [],
   "source": []
  }
 ],
 "metadata": {
  "kernelspec": {
   "display_name": "Python 3",
   "language": "python",
   "name": "python3"
  },
  "language_info": {
   "codemirror_mode": {
    "name": "ipython",
    "version": 3
   },
   "file_extension": ".py",
   "mimetype": "text/x-python",
   "name": "python",
   "nbconvert_exporter": "python",
   "pygments_lexer": "ipython3",
   "version": "3.11.2"
  },
  "orig_nbformat": 4
 },
 "nbformat": 4,
 "nbformat_minor": 2
}
