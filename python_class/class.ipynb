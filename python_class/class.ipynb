{
 "cells": [
  {
   "attachments": {},
   "cell_type": "markdown",
   "metadata": {},
   "source": [
    "# Class\n",
    "\n",
    "클래스는 프로그래밍의 필수 요소는 아닙니다. 그러나, 상황에 맞게 잘 사용할 수 있다면 효율적으로 코드를 설계 및 관리 할 수 있습니다.<br>\n",
    "보통 클래스는 __\"객체를 만들기 위한 설계도\"__ 로 이해하는 경우가 많습니다. 붕어빵 틀을 클래스로, 만들어진 붕어빵을 객체라고 비유하곤 합니다.\n",
    "\n"
   ]
  },
  {
   "cell_type": "code",
   "execution_count": 3,
   "metadata": {},
   "outputs": [],
   "source": [
    "class fish_bread:\n",
    "    pass"
   ]
  },
  {
   "attachments": {},
   "cell_type": "markdown",
   "metadata": {},
   "source": [
    "위의 fish_bread 클래스는 아무 기능이 담겨 있지 않은 클래스입니다. 이를 활용해 fish_bread 클래스의 객체를 만들때는 아래와 같이 만들게 됩니다."
   ]
  },
  {
   "cell_type": "code",
   "execution_count": null,
   "metadata": {},
   "outputs": [],
   "source": [
    "a = fish_bread()\n",
    "b = fish_bread()"
   ]
  },
  {
   "attachments": {},
   "cell_type": "markdown",
   "metadata": {},
   "source": [
    "여기서 a, b는 객체로 불리며, 붕어빵 틀에서 만들어진 각각의 붕어빵이라고 생각해도 좋습니다.\n",
    "## 인스턴스란\n",
    "클래스로 만든 객체를 인스턴스라고도 합니다. 위에서 a는 객체이자 fish_bread클래스의 인스턴스입니다. 즉, 인스턴스는 특정 객체가 어떤 클래스의 객체인지 설명할 때 쓰이게 됩니다."
   ]
  },
  {
   "attachments": {},
   "cell_type": "markdown",
   "metadata": {},
   "source": [
    "# 사칙연산 클래스 만들어보기\n",
    "\n",
    "더하기, 빼기, 곱하기, 나누기 기능을 담은 Calculator 클래스를 만들어봅시다.<br>\n",
    "Calculator 클래스는 아래와 같이 구현하고자 합니다.<br>\n",
    "* inputdata 메서드: 두 개의 숫자를 입력받음<br>\n",
    "* add 메서드: 더하기\n",
    "* sub 메서드: 빼기\n",
    "* mul 메서드: 곱하기\n",
    "* div 메서드: 나누기\n"
   ]
  },
  {
   "attachments": {},
   "cell_type": "markdown",
   "metadata": {},
   "source": [
    "### 1. 클래스 구조 만들기\n",
    "먼저 할 일은 객체를 생성하기 위한 클래스를 만드는 것입니다.\n",
    "일단 아무것도 수행하지 않도록 하는 pass 문을 넣어 생성해봅시다."
   ]
  },
  {
   "cell_type": "code",
   "execution_count": 4,
   "metadata": {},
   "outputs": [],
   "source": [
    "class Calculator:\n",
    "    pass"
   ]
  },
  {
   "attachments": {},
   "cell_type": "markdown",
   "metadata": {},
   "source": [
    "클래스를 생성했으니, Calculator 클래스의 인스턴스인 객체 a를 만들어보고, type을 확인해봅시다."
   ]
  },
  {
   "cell_type": "code",
   "execution_count": 5,
   "metadata": {},
   "outputs": [
    {
     "name": "stdout",
     "output_type": "stream",
     "text": [
      "<class '__main__.Calculator'>\n"
     ]
    }
   ],
   "source": [
    "a = Calculator()\n",
    "print(type(a))"
   ]
  },
  {
   "attachments": {},
   "cell_type": "markdown",
   "metadata": {},
   "source": [
    "### 2. 객체에 데이터 입력하기(inputdata 메서드 구현하기)\n",
    "위에서 만든 객체 a는 아무런 기능을 담고 있지 않습니다.<br>\n",
    "이제 사칙연산이 가능하도록 기능을 넣어주어야 하는데 그 전에 2개의 숫자를 지정할 수 있게 하는 inputdata 메서드를 추가해봅시다.<br>"
   ]
  },
  {
   "cell_type": "code",
   "execution_count": 6,
   "metadata": {},
   "outputs": [],
   "source": [
    "class Calculator:\n",
    "    def inputdata(self, first, second):\n",
    "        self.first = first\n",
    "        self.second = second"
   ]
  },
  {
   "attachments": {},
   "cell_type": "markdown",
   "metadata": {},
   "source": [
    "inputdata 앞에 def가 붙어있는 걸로 우리는 inputdata가 함수임을 알 수 있습니다. 다만, 클래스 안에 구현한 함수를 다른말로 메서드라고 하며 일반적으로는 함수라고 이해하면 됩니다.<br>\n",
    "위의 inputdata 메서드를 다시 살펴봅시다.<br>\n",
    "```python\n",
    "def inputdata(self, first, second):\n",
    "    self.first = first\n",
    "    self.second = second\n",
    "```\n",
    "inputdata 메서드는 매개변수로 3개의 입력값을 받습니다.<br>\n",
    "여기서, 일반 함수와 달리 메서드의 첫 번째 매개변수 self는 다른 의미를 가지게 됩니다.<br>\n",
    "a 객체를 생성후에 inputdata 메서드를 호출해봅시다."
   ]
  },
  {
   "cell_type": "code",
   "execution_count": 7,
   "metadata": {},
   "outputs": [],
   "source": [
    "a = Calculator()\n",
    "a.inputdata(5, 9)"
   ]
  },
  {
   "attachments": {},
   "cell_type": "markdown",
   "metadata": {},
   "source": [
    "위에서 inputdata 메서드는 3개의 매개변수가 필요한데 실제로는 2개의 값을 전달하였습니다.<br>\n",
    "그 이유는 inputdata의 첫 번째 매개변수 self에는 inputdata 메서드를 호출한 객체 a가 자동으로 전달되기 때문입니다.<br>"
   ]
  }
 ],
 "metadata": {
  "kernelspec": {
   "display_name": "Python 3",
   "language": "python",
   "name": "python3"
  },
  "language_info": {
   "codemirror_mode": {
    "name": "ipython",
    "version": 3
   },
   "file_extension": ".py",
   "mimetype": "text/x-python",
   "name": "python",
   "nbconvert_exporter": "python",
   "pygments_lexer": "ipython3",
   "version": "3.11.2"
  },
  "orig_nbformat": 4
 },
 "nbformat": 4,
 "nbformat_minor": 2
}
