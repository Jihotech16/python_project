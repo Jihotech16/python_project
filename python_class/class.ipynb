{
 "cells": [
  {
   "attachments": {},
   "cell_type": "markdown",
   "metadata": {},
   "source": [
    "# Class\n",
    "\n",
    "클래스는 프로그래밍의 필수 요소는 아닙니다. 그러나, 상황에 맞게 잘 사용할 수 있다면 효율적으로 코드를 설계 및 관리 할 수 있습니다.<br>\n",
    "보통 클래스는 __\"객체를 만들기 위한 설계도\"__ 로 이해하는 경우가 많습니다. 붕어빵 틀을 클래스로, 만들어진 붕어빵을 객체라고 비유하곤 합니다.\n",
    "\n"
   ]
  },
  {
   "cell_type": "code",
   "execution_count": 3,
   "metadata": {},
   "outputs": [],
   "source": [
    "class fish_bread:\n",
    "    pass"
   ]
  },
  {
   "attachments": {},
   "cell_type": "markdown",
   "metadata": {},
   "source": [
    "위의 fish_bread 클래스는 아무 기능이 담겨 있지 않은 클래스입니다. 이를 활용해 fish_bread 클래스의 객체를 만들때는 아래와 같이 만들게 됩니다."
   ]
  },
  {
   "cell_type": "code",
   "execution_count": null,
   "metadata": {},
   "outputs": [],
   "source": [
    "a = fish_bread()\n",
    "b = fish_bread()"
   ]
  },
  {
   "attachments": {},
   "cell_type": "markdown",
   "metadata": {},
   "source": [
    "여기서 a, b는 객체로 불리며, 붕어빵 틀에서 만들어진 각각의 붕어빵이라고 생각해도 좋습니다.\n",
    "## 인스턴스란\n",
    "클래스로 만든 객체를 인스턴스라고도 합니다. 위에서 a는 객체이자 fish_bread클래스의 인스턴스입니다. 즉, 인스턴스는 특정 객체가 어떤 클래스의 객체인지 설명할 때 쓰이게 됩니다."
   ]
  },
  {
   "attachments": {},
   "cell_type": "markdown",
   "metadata": {},
   "source": [
    "# 사칙연산 클래스 만들어보기\n",
    "\n",
    "더하기, 빼기, 곱하기, 나누기 기능을 담은 Calculator 클래스를 만들어봅시다.<br>\n",
    "Calculator 클래스는 아래와 같이 구현하고자 합니다.<br>\n",
    "* inputdata 메서드: 두 개의 숫자를 입력받음<br>\n",
    "* add 메서드: 더하기\n",
    "* sub 메서드: 빼기\n",
    "* mul 메서드: 곱하기\n",
    "* div 메서드: 나누기\n"
   ]
  },
  {
   "attachments": {},
   "cell_type": "markdown",
   "metadata": {},
   "source": [
    "### 1. 클래스 구조 만들기\n",
    "먼저 할 일은 객체를 생성하기 위한 클래스를 만드는 것입니다.\n",
    "일단 아무것도 수행하지 않도록 하는 pass 문을 넣어 생성해봅시다."
   ]
  },
  {
   "cell_type": "code",
   "execution_count": 4,
   "metadata": {},
   "outputs": [],
   "source": [
    "class Calculator:\n",
    "    pass"
   ]
  },
  {
   "attachments": {},
   "cell_type": "markdown",
   "metadata": {},
   "source": [
    "클래스를 생성했으니, Calculator 클래스의 인스턴스인 객체 a를 만들어보고, type을 확인해봅시다."
   ]
  },
  {
   "cell_type": "code",
   "execution_count": 5,
   "metadata": {},
   "outputs": [
    {
     "name": "stdout",
     "output_type": "stream",
     "text": [
      "<class '__main__.Calculator'>\n"
     ]
    }
   ],
   "source": [
    "a = Calculator()\n",
    "print(type(a))"
   ]
  },
  {
   "attachments": {},
   "cell_type": "markdown",
   "metadata": {},
   "source": [
    "### 2. 객체에 데이터 입력하기(inputdata 메서드 구현하기)\n",
    "위에서 만든 객체 a는 아무런 기능을 담고 있지 않습니다.<br>\n",
    "이제 사칙연산이 가능하도록 기능을 넣어주어야 하는데 그 전에 2개의 숫자를 지정할 수 있게 하는 inputdata 메서드를 추가해봅시다.<br>"
   ]
  },
  {
   "cell_type": "code",
   "execution_count": 2,
   "metadata": {},
   "outputs": [],
   "source": [
    "class Calculator:\n",
    "    def inputdata(self, first, second):\n",
    "        self.first = first\n",
    "        self.second = second"
   ]
  },
  {
   "attachments": {},
   "cell_type": "markdown",
   "metadata": {},
   "source": [
    "inputdata 앞에 def가 붙어있는 걸로 우리는 inputdata가 함수임을 알 수 있습니다. 다만, 클래스 안에 구현한 함수를 다른말로 메서드라고 하며 일반적으로는 함수라고 이해하면 됩니다.<br>\n",
    "위의 inputdata 메서드를 다시 살펴봅시다.<br>\n",
    "```python\n",
    "def inputdata(self, first, second):\n",
    "    self.first = first\n",
    "    self.second = second\n",
    "```\n",
    "inputdata 메서드는 매개변수로 3개의 입력값을 받습니다.<br>\n",
    "여기서, 일반 함수와 달리 메서드의 첫 번째 매개변수 self는 다른 의미를 가지게 됩니다.<br>\n",
    "a 객체를 생성후에 inputdata 메서드를 호출해봅시다."
   ]
  },
  {
   "cell_type": "code",
   "execution_count": 7,
   "metadata": {},
   "outputs": [],
   "source": [
    "a = Calculator()\n",
    "a.inputdata(5, 9)"
   ]
  },
  {
   "attachments": {},
   "cell_type": "markdown",
   "metadata": {},
   "source": [
    "위에서 inputdata 메서드는 3개의 매개변수가 필요한데 실제로는 2개의 값을 전달하였습니다.<br>\n",
    "그 이유는 inputdata의 첫 번째 매개변수 self에는 inputdata 메서드를 호출한 객체 a가 자동으로 전달되기 때문입니다.<br>\n",
    "\n",
    "![inputdata](https://github.com/Jihotech16/python_project/blob/b6b7c5d6bb9d28944418ce656917868454538453/python_class/image/inputdata.png?raw=true)<br>\n",
    "\n",
    "파이썬 메서드의 첫 번째 매개변수 이름은 관례적으로 self를 사용합니다. 물론 다른 이름을 사용해도 괜찮습니다.<br>\n",
    "```python\n",
    "a.inputdata(5,9)\n",
    "```\n",
    "를 호출한 경우<br>\n",
    "* a.first = 5<br>\n",
    "* a.second = 9<br>\n",
    "\n",
    "가 저장됩니다."
   ]
  },
  {
   "cell_type": "code",
   "execution_count": 3,
   "metadata": {},
   "outputs": [
    {
     "name": "stdout",
     "output_type": "stream",
     "text": [
      "5\n",
      "9\n"
     ]
    }
   ],
   "source": [
    "a = Calculator()\n",
    "a.inputdata(5, 9)\n",
    "print(a.first)\n",
    "print(a.second)"
   ]
  },
  {
   "attachments": {},
   "cell_type": "markdown",
   "metadata": {},
   "source": [
    "클래스 Calculator의 인스턴스인 b 객체도 생성해봅시다.<br>\n",
    "생성한 후<br>\n",
    "```python\n",
    "b.inputdata(2,5)\n",
    "```\n",
    "를 호출하여 a 객체의 first 값과 b 객체의 first 값을 비교해 봅시다."
   ]
  },
  {
   "cell_type": "code",
   "execution_count": 6,
   "metadata": {},
   "outputs": [
    {
     "name": "stdout",
     "output_type": "stream",
     "text": [
      "2\n",
      "5\n"
     ]
    }
   ],
   "source": [
    "b = Calculator()\n",
    "b.inputdata(2, 5)\n",
    "print(b.first)\n",
    "print(a.first)"
   ]
  },
  {
   "attachments": {},
   "cell_type": "markdown",
   "metadata": {},
   "source": [
    "이를 통해 a 객체의 first값은 b 객체의 first 값에 영향을 받지 않는다는 것을 알 수 있습니다.<br>\n",
    "<span style=\"color:orange\">__여기서 클래스로 만든 객체의 객체 변수는 다른 객체의 객체변수에 상관없이 독립적인 값을 유지한다는 것을 알 수 있습니다.__</span>"
   ]
  },
  {
   "attachments": {},
   "cell_type": "markdown",
   "metadata": {},
   "source": [
    "### 더하기 기능 만들기\n",
    "\n",
    "이제 2개의 숫자를 입력받아 더하기 연산이 가능하도록 Calculator 클래스를 수정해봅시다."
   ]
  },
  {
   "cell_type": "code",
   "execution_count": 7,
   "metadata": {},
   "outputs": [],
   "source": [
    "class Calculator:\n",
    "    def inputdata(self, first, second):\n",
    "        self.first = first\n",
    "        self.second = second\n",
    "    \n",
    "    def add(self):\n",
    "        result = self.first + self.second\n",
    "        return result"
   ]
  },
  {
   "attachments": {},
   "cell_type": "markdown",
   "metadata": {},
   "source": [
    "이제 다시 Calculator 클래스의 인스턴스인 객체 a를 생성 후<br>\n",
    "a.inputdata(5, 9) 를 호출 후에 a.add()의 결과값을 출력해봅시다.<br>"
   ]
  },
  {
   "cell_type": "code",
   "execution_count": null,
   "metadata": {},
   "outputs": [],
   "source": [
    "a = Calculator()\n",
    "a.inputdata(5, 9)\n",
    "print(a.add())\n"
   ]
  },
  {
   "attachments": {},
   "cell_type": "markdown",
   "metadata": {},
   "source": [
    "위를 참고하여 빼기, 곱하기, 나누기 기능을 추가하여 Calculator클래스를 완성해봅시다.\n",
    "* 빼기 : sub()\n",
    "* 곱하기 : mul()\n",
    "* 나누기 : div()"
   ]
  },
  {
   "cell_type": "code",
   "execution_count": 12,
   "metadata": {},
   "outputs": [],
   "source": [
    "class Calculator:\n",
    "    def inputdata(self, first, second):\n",
    "        self.first = first\n",
    "        self.second = second\n",
    "    \n",
    "    def add(self):\n",
    "        result = self.first + self.second\n",
    "        return result\n",
    "    \n",
    "    def sub(self):\n",
    "        result = self.first - self.second\n",
    "        return result\n",
    "    \n",
    "    def mul(self):\n",
    "        result = self.first * self.second\n",
    "        return result\n",
    "    \n",
    "    def div(self):\n",
    "        result = self.first / self.second\n",
    "        return result"
   ]
  },
  {
   "attachments": {},
   "cell_type": "markdown",
   "metadata": {},
   "source": [
    "생성 후 아래 코드를 실행하여 제대로 작동하는지 테스트해봅시다."
   ]
  },
  {
   "cell_type": "code",
   "execution_count": 17,
   "metadata": {},
   "outputs": [
    {
     "name": "stdout",
     "output_type": "stream",
     "text": [
      "a객체의 더하기 값: 14\n",
      "b객체의 더하기 값: 8\n",
      "a객체의 빼기 값: -4\n",
      "b객체의 빼기 값: -4\n",
      "a객체의 곱하기 값: 45\n",
      "b객체의 곱하기 값: 12\n",
      "a객체의 나누기 값: 0.5555555555555556\n",
      "b객체의 나누기 값: 0.3333333333333333\n"
     ]
    }
   ],
   "source": [
    "a = Calculator()\n",
    "b = Calculator()\n",
    "a.inputdata(5, 9)\n",
    "b.inputdata(2, 6)\n",
    "print(\"a객체의 더하기 값:\",a.add())\n",
    "print(\"b객체의 더하기 값:\",b.add())\n",
    "print(\"a객체의 빼기 값:\",a.sub())\n",
    "print(\"b객체의 빼기 값:\",b.sub())\n",
    "print(\"a객체의 곱하기 값:\",a.mul())\n",
    "print(\"b객체의 곱하기 값:\",b.mul())\n",
    "print(\"a객체의 나누기 값:\",a.div())\n",
    "print(\"b객체의 나누기 값:\",b.div())\n"
   ]
  },
  {
   "attachments": {},
   "cell_type": "markdown",
   "metadata": {},
   "source": [
    "# 생성자\n",
    "\n",
    "위에서 만든 Calculator클래스를 활용한 다음 코드를 실행시켜봅시다."
   ]
  },
  {
   "cell_type": "code",
   "execution_count": 18,
   "metadata": {},
   "outputs": [
    {
     "ename": "AttributeError",
     "evalue": "'Calculator' object has no attribute 'first'",
     "output_type": "error",
     "traceback": [
      "\u001b[1;31m---------------------------------------------------------------------------\u001b[0m",
      "\u001b[1;31mAttributeError\u001b[0m                            Traceback (most recent call last)",
      "Cell \u001b[1;32mIn[18], line 2\u001b[0m\n\u001b[0;32m      1\u001b[0m a \u001b[39m=\u001b[39m Calculator()\n\u001b[1;32m----> 2\u001b[0m a\u001b[39m.\u001b[39;49madd()\n",
      "Cell \u001b[1;32mIn[12], line 7\u001b[0m, in \u001b[0;36mCalculator.add\u001b[1;34m(self)\u001b[0m\n\u001b[0;32m      6\u001b[0m \u001b[39mdef\u001b[39;00m \u001b[39madd\u001b[39m(\u001b[39mself\u001b[39m):\n\u001b[1;32m----> 7\u001b[0m     result \u001b[39m=\u001b[39m \u001b[39mself\u001b[39;49m\u001b[39m.\u001b[39;49mfirst \u001b[39m+\u001b[39m \u001b[39mself\u001b[39m\u001b[39m.\u001b[39msecond\n\u001b[0;32m      8\u001b[0m     \u001b[39mreturn\u001b[39;00m result\n",
      "\u001b[1;31mAttributeError\u001b[0m: 'Calculator' object has no attribute 'first'"
     ]
    }
   ],
   "source": [
    "a = Calculator()\n",
    "a.add()"
   ]
  },
  {
   "attachments": {},
   "cell_type": "markdown",
   "metadata": {},
   "source": [
    "위 코드를 실행해보면 오류가 발생하게 됩니다. 이는 inputdata 메서드를 실행해야 객체 a의 객체변수 first와 second가 생성되기 때문입니다.<br>\n",
    "이렇게 객체에 초깃값을 설정해야 할 경우 inputdata 같은 메서드를 호출하여 설정하는 방법보다는 생성자를 설정하게 됩니다.<br>\n",
    "__생성자란 객체갸 생성될 때 자동으로 호출되는 메서드를 의미합니다.__<br>\n",
    "파이썬 메서드 이름으로 &#95;&#95;init&#95;&#95;를 사용하면 이 메서드는 생성자가 됩니다.\n",
    "다음 코드를 실행시켜 Calculator 클래스에 생성자를 추가해봅시다."
   ]
  },
  {
   "cell_type": "code",
   "execution_count": 20,
   "metadata": {},
   "outputs": [],
   "source": [
    "class Calculator:\n",
    "    def __init__(self, first, second):\n",
    "        self.first = first\n",
    "        self.second = second\n",
    "        \n",
    "    def inputdata(self, first, second):\n",
    "        self.first = first\n",
    "        self.second = second\n",
    "    \n",
    "    def add(self):\n",
    "        result = self.first + self.second\n",
    "        return result\n",
    "    \n",
    "    def sub(self):\n",
    "        result = self.first - self.second\n",
    "        return result\n",
    "    \n",
    "    def mul(self):\n",
    "        result = self.first * self.second\n",
    "        return result\n",
    "    \n",
    "    def div(self):\n",
    "        result = self.first / self.second\n",
    "        return result"
   ]
  },
  {
   "attachments": {},
   "cell_type": "markdown",
   "metadata": {},
   "source": [
    "생성자는 자동으로 호출되기에 객체를 만듦과 동시에 매개변수를 지정해주어야 합니다."
   ]
  },
  {
   "cell_type": "code",
   "execution_count": 21,
   "metadata": {},
   "outputs": [],
   "source": [
    "a = Calculator(8, 9)\n",
    "print(a.first)\n",
    "print(a.second)"
   ]
  },
  {
   "attachments": {},
   "cell_type": "markdown",
   "metadata": {},
   "source": []
  }
 ],
 "metadata": {
  "kernelspec": {
   "display_name": "Python 3",
   "language": "python",
   "name": "python3"
  },
  "language_info": {
   "codemirror_mode": {
    "name": "ipython",
    "version": 3
   },
   "file_extension": ".py",
   "mimetype": "text/x-python",
   "name": "python",
   "nbconvert_exporter": "python",
   "pygments_lexer": "ipython3",
   "version": "3.11.2"
  },
  "orig_nbformat": 4
 },
 "nbformat": 4,
 "nbformat_minor": 2
}
