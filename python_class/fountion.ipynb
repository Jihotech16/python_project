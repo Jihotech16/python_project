{
 "cells": [
  {
   "attachments": {},
   "cell_type": "markdown",
   "metadata": {},
   "source": [
    "# 함수\n",
    "\n",
    "함수는 똑같은 내용을 반복해서 사용할 경우 사용하게 됩니다. \n",
    "파이썬에서 함수의 구조는 다음과 같습니다.\n",
    "```python\n",
    "def 함수 이름(매개변수):\n",
    "    실행할 문장1\n",
    "    실행할 문장2\n",
    "    ...\n",
    "```\n",
    "\n",
    "def는 함수를 만들 때 사용하는 예약어이며, 함수 이름은 함수를 만드는 사람이 임의로 만들 수 있습니다.\n",
    "함수 이름 뒤 괄호 안의 매겨변수는 이 함수에 입력으로 전달되는 값을 받는 변수입니다. 이렇게 함수를 정의한 다음 실행할 문장을 입력합니다.\n",
    "\n"
   ]
  },
  {
   "cell_type": "code",
   "execution_count": null,
   "metadata": {},
   "outputs": [],
   "source": [
    "def add(a,b):\n",
    "    return a + b\n",
    "\n",
    "a = 3\n",
    "b = 4\n",
    "c = add(a, b)\n",
    "print(c)"
   ]
  },
  {
   "attachments": {},
   "cell_type": "markdown",
   "metadata": {},
   "source": [
    "# 매개변수와 인수\n",
    "\n",
    "매개변수는 함수에 입력으로 전달된 값을 받는 변수를 의미합니다. 인수는 함수를 호출할 때 전달하는 입력값을 의미합니다.\n",
    "\n",
    "```python\n",
    "def add(a, b): # a, b는 매개변수\n",
    "    return a + b\n",
    "\n",
    "print(add(3, 4)) # 3, 4는 인수\n",
    "```\n"
   ]
  },
  {
   "attachments": {},
   "cell_type": "markdown",
   "metadata": {},
   "source": [
    "# 일반적은 함수의 형태\n",
    "일반적으로 함수는 입력값과 결과값을 가지게 됩니다.\n",
    "```python\n",
    "def 함수 이름(매개변수):\n",
    "    실행할 문장\n",
    "    ...\n",
    "    return 결과값\n",
    "```\n",
    "또한 이를 사용할 때는 다음과 같이 사용하게 됩니다.\n",
    "```python\n",
    "결과값을 받을 변수 = 함수 이름(인수1, 인수2, ...)\n",
    "```\n"
   ]
  },
  {
   "attachments": {},
   "cell_type": "markdown",
   "metadata": {},
   "source": [
    "# 입력값이 없는 함수\n",
    "입력값이 없는 함수도 많이 사용합니다. 보통은 아래와 예시와 같은 형태로 사용하게 됩니다."
   ]
  },
  {
   "cell_type": "code",
   "execution_count": null,
   "metadata": {},
   "outputs": [],
   "source": [
    "def say():\n",
    "    return '안녕하세요'\n",
    "\n",
    "a = say()\n",
    "print(a)"
   ]
  },
  {
   "attachments": {},
   "cell_type": "markdown",
   "metadata": {},
   "source": [
    "# 결과값이 없는 함수\n",
    "결과값이 없는 함수는 호출해도 돌려주는 값이 없습니다. 아래 예시를 참고해 봅시다."
   ]
  },
  {
   "cell_type": "code",
   "execution_count": null,
   "metadata": {},
   "outputs": [],
   "source": [
    "def add(a, b):\n",
    "    print(\"%d, %d의 합은 %d이다.\" % (a, b, a+b))\n",
    "\n",
    "add(3, 4)\n",
    "\n",
    "a = add(3, 4)\n",
    "print(a)"
   ]
  },
  {
   "attachments": {},
   "cell_type": "markdown",
   "metadata": {},
   "source": [
    "# 입력값, 결과값 모두 없는 함수\n",
    "\n",
    "다음 예를 참고하여 사용해봅시다."
   ]
  },
  {
   "cell_type": "code",
   "execution_count": null,
   "metadata": {},
   "outputs": [],
   "source": [
    "def say():\n",
    "    print('안녕하세요')\n",
    "\n",
    "say()"
   ]
  },
  {
   "attachments": {},
   "cell_type": "markdown",
   "metadata": {},
   "source": [
    "# 매개변수 지정하여 호출하기\n",
    "함수를 호출할 때 매개변수를 지정하여 호출할 수도 있습니다.\n",
    "\n",
    "아래 예시를 보면서 사용법을 알아봅시다."
   ]
  },
  {
   "cell_type": "code",
   "execution_count": null,
   "metadata": {},
   "outputs": [],
   "source": [
    "def add(a, b):\n",
    "    return a+b\n",
    "\n",
    "result = add(a=3, b=7)\n",
    "print(result)\n",
    "\n",
    "result = add(b=5, a=3)\n",
    "print(result)"
   ]
  },
  {
   "attachments": {},
   "cell_type": "markdown",
   "metadata": {},
   "source": [
    "# 입력값이 몇 개가 될지 모를 때\n",
    "입력값이 정확히 몇 개일지 모를 때는 아래와 같은 형태로 사용합니다.\n",
    "\n",
    "```python\n",
    "def 함수 이름(*매개변수):\n",
    "    실행할 문장\n",
    "    ...\n",
    "```\n",
    "\n",
    "여기서 매개변수는 튜플의 형태로 생성됩니다.\n",
    "\n",
    "```python\n",
    "def 함수 이름(**매개변수):\n",
    "    실행할 문장\n",
    "    ...\n",
    "```\n",
    "만일 매개변수 앞에 **가 붙게된다면 매개변수는 딕셔너리로 만들어집니다.\n",
    "\n",
    "아래에서 여러 개의 입력값을 모두 더하는 함수를 만들어봅시다."
   ]
  },
  {
   "cell_type": "code",
   "execution_count": 5,
   "metadata": {},
   "outputs": [],
   "source": [
    "def add_many(*num):\n",
    "    result = 0\n",
    "    for i in num:\n",
    "        result = result + i\n",
    "    return result"
   ]
  },
  {
   "cell_type": "code",
   "execution_count": null,
   "metadata": {},
   "outputs": [],
   "source": [
    "a = add_many(1, 2, 3, 4)\n",
    "print(a)\n",
    "\n",
    "b = add_many(2, 5, 10)\n",
    "print(b)"
   ]
  },
  {
   "attachments": {},
   "cell_type": "markdown",
   "metadata": {},
   "source": [
    "## 예제\n",
    "\n",
    "덧셈, 뺄셈, 곱셈, 나눗셈이 가능한 게산기를 다음과 같은 함수를 만들어 구현해봅시다.\n",
    "\n",
    "```python\n",
    "def cal(매개변수1, *numbers):\n",
    "```\n"
   ]
  },
  {
   "cell_type": "code",
   "execution_count": null,
   "metadata": {},
   "outputs": [],
   "source": []
  },
  {
   "attachments": {},
   "cell_type": "markdown",
   "metadata": {},
   "source": [
    "# 두 개 이상의 값을 반환해야 한다면?\n",
    "\n",
    "함수를 사용하다 보면 2개 이상의 값을 돌려주어야 하는 경우도 생기게 됩니다. 아래 예시를 참고해봅시다."
   ]
  },
  {
   "cell_type": "code",
   "execution_count": null,
   "metadata": {},
   "outputs": [],
   "source": [
    "def addmul(a, b):\n",
    "    return a+b, a*b\n",
    "\n",
    "result = addmul(3, 4)\n",
    "print(result)\n",
    "\n",
    "result1, result2 = addmul(5, 6)\n",
    "print(result1)\n",
    "print(result2)"
   ]
  },
  {
   "attachments": {},
   "cell_type": "markdown",
   "metadata": {},
   "source": [
    "return 으로 2개 이상의 값을 주게 되면 튜플로 반환값이 생성됩니다. 이를 주의하여 사용합시다."
   ]
  },
  {
   "attachments": {},
   "cell_type": "markdown",
   "metadata": {},
   "source": [
    "# return의 다른 사용법\n",
    "\n",
    "특정 상황에서 함수를 바로 종료하고 싶은 경우 return을 사용하여 함수를 빠져나갈 수 있습니다."
   ]
  }
 ],
 "metadata": {
  "kernelspec": {
   "display_name": "Python 3",
   "language": "python",
   "name": "python3"
  },
  "language_info": {
   "codemirror_mode": {
    "name": "ipython",
    "version": 3
   },
   "file_extension": ".py",
   "mimetype": "text/x-python",
   "name": "python",
   "nbconvert_exporter": "python",
   "pygments_lexer": "ipython3",
   "version": "3.11.2"
  },
  "orig_nbformat": 4
 },
 "nbformat": 4,
 "nbformat_minor": 2
}
