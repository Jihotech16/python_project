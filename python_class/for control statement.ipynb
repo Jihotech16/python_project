{
 "cells": [
  {
   "attachments": {},
   "cell_type": "markdown",
   "metadata": {},
   "source": [
    "# for\n",
    "while문과 비슷한 반복복인 for문은 기본 구조는 아래와 같습니다.\n",
    "\n",
    "```python\n",
    "for 변수 in 리스트(또는 튜플, 문자열):\n",
    "    실행할 문장1\n",
    "    실행할 문장2\n",
    "    ...\n",
    "```\n",
    "\n",
    "아래 코드를 실행시켜봅시다."
   ]
  },
  {
   "cell_type": "code",
   "execution_count": null,
   "metadata": {},
   "outputs": [],
   "source": [
    "list = ['a','b','c']\n",
    "for i in list:\n",
    "    print(i)"
   ]
  },
  {
   "attachments": {},
   "cell_type": "markdown",
   "metadata": {},
   "source": [
    "위의 예시는 전형적인 for문으로 ['a', 'b', 'c'] 리스트의 첫 번째 요소인 'a'가 먼저 i 변수에 대입된 후 print(i) 문장을 수행하고 리스트의 마지막 요소까지 반복합니다."
   ]
  },
  {
   "cell_type": "code",
   "execution_count": null,
   "metadata": {},
   "outputs": [],
   "source": [
    "a = [(1, 2), (3, 4), (5, 6)]\n",
    "for (first, last) in a:\n",
    "    print(first + last)"
   ]
  },
  {
   "attachments": {},
   "cell_type": "markdown",
   "metadata": {},
   "source": [
    "아래 문장을 참고하여 코드를 만들어 봅시다.\n",
    "\n",
    "\"총 5명의 학생이 시험을 보았는데 시험 점수가 60점이 넘으면 합격이고 그렇지 않으면 불합격이다. 합격인지 불합격인지 결과를 보여주시오.\"\n",
    "\n",
    "아래는 5명의 점수를 리스트화 시킨 코드입니다.\n",
    "\n",
    "```python\n",
    "marks = [90, 25, 67, 45, 80]\n",
    "```\n",
    "1번 학생이 90점, 2번이 25점... 5번이 80점일 때 1번 학생은 합격입니다.\n",
    "2번 학생은 불합격입니다.\n",
    "3번 학생은 합격입니다.\n",
    "4번 학생은 불합격입니다.\n",
    "5번 학생은 합격입니다.\n",
    "\n",
    "를 출력하는 코드를 만들어봅시다."
   ]
  },
  {
   "cell_type": "code",
   "execution_count": null,
   "metadata": {},
   "outputs": [],
   "source": [
    "marks = [90, 25, 67, 45, 80]\n",
    "number = 0\n",
    "for mark in marks:\n",
    "    number = number + 1\n",
    "    if mark >= 60:\n",
    "        print(\"%d번 학생은 합격입니다.\" % number)\n",
    "    else:\n",
    "        print(\"%d번 하생은 불합격입니다.\" % number)\n"
   ]
  },
  {
   "attachments": {},
   "cell_type": "markdown",
   "metadata": {},
   "source": [
    "위의 코드에서 합격한 사람들만 출력하도록 코드를 변경해봅시다.\n",
    "\n",
    "```python\n",
    "continue\n",
    "```\n",
    "를 사용해봅시다."
   ]
  },
  {
   "cell_type": "code",
   "execution_count": null,
   "metadata": {},
   "outputs": [],
   "source": []
  },
  {
   "attachments": {},
   "cell_type": "markdown",
   "metadata": {},
   "source": [
    "### range 함수\n",
    "\n",
    "for문은 숫자 리스트랄 자동으로 만들어 주는 range 함수와 함께 사용하는 경우가 많습니다.\n",
    "아래 코드를 실행시켜 range 함수의 사용법을 알아봅시다."
   ]
  },
  {
   "cell_type": "code",
   "execution_count": null,
   "metadata": {},
   "outputs": [],
   "source": [
    "a = range(10)\n",
    "print(a)"
   ]
  },
  {
   "attachments": {},
   "cell_type": "markdown",
   "metadata": {},
   "source": [
    "```python\n",
    "range(10)\n",
    "```\n",
    "은 0부터 10 미만의 숫자를 포함하는 range 객체를 만들어 줍니다.\n",
    "\n",
    "시작 숫자와 끝 숫자를 지정하려면\n",
    "```python\n",
    "range(시작 숫자, 끝 숫자)\n",
    "```\n",
    "를 사용합니다만 끝 숫자를 포함하지 않음에 주의합시다."
   ]
  },
  {
   "attachments": {},
   "cell_type": "markdown",
   "metadata": {},
   "source": [
    "### 예제\n",
    "\n",
    "for문과 range 함수를 사용하여 1부터 100까지를 더해 출력하는 코드를 만들어봅시다."
   ]
  },
  {
   "cell_type": "code",
   "execution_count": null,
   "metadata": {},
   "outputs": [],
   "source": []
  },
  {
   "attachments": {},
   "cell_type": "markdown",
   "metadata": {},
   "source": [
    "### 예제\n",
    "\n",
    "for문과 range함수를 사용하여 2단부터 9단까지의 구구단을 출력해봅시다."
   ]
  },
  {
   "cell_type": "code",
   "execution_count": null,
   "metadata": {},
   "outputs": [],
   "source": [
    "for i in range(2, 10):\n",
    "    for j in range(1, 10):\n",
    "        print(i*j,end = \" \")\n",
    "    print(' ')"
   ]
  },
  {
   "attachments": {},
   "cell_type": "markdown",
   "metadata": {},
   "source": [
    "### 리스트 내포 사용하기\n",
    "리스트 내포의 일반 문법은 다음과 같습니다.\n",
    "\n",
    "```python\n",
    "[표현식 for 항목 in 반복 가능 객체 if 조건]\n",
    "```\n",
    "\n",
    "아래 예시를 보며 사용법을 익혀봅시다."
   ]
  },
  {
   "cell_type": "code",
   "execution_count": null,
   "metadata": {},
   "outputs": [],
   "source": [
    "a = [1, 2, 3, 4]\n",
    "result = []\n",
    "for num in a:\n",
    "    result.append(num*3)\n",
    "print(result)"
   ]
  },
  {
   "attachments": {},
   "cell_type": "markdown",
   "metadata": {},
   "source": [
    "위 코드는 a 리스트의 각 항목에 3을 곱한 값을 result 리스트에 담는 예제입니다.\n",
    "\n",
    "위 코드를 리스트 내포 방식을 사용하면 다음과 같이 나타낼 수 있습니다."
   ]
  },
  {
   "cell_type": "code",
   "execution_count": null,
   "metadata": {},
   "outputs": [],
   "source": [
    "a = [1, 2, 3, 4]\n",
    "result = [num*3 for num in a]\n",
    "print(result)"
   ]
  },
  {
   "attachments": {},
   "cell_type": "markdown",
   "metadata": {},
   "source": [
    "만약 [1, 2, 3, 4] 중에서 짝수에만 3을 곱하여 담고 싶다면 리스트 내포 안에 if문을 사용할 수도 있습니다."
   ]
  },
  {
   "cell_type": "code",
   "execution_count": null,
   "metadata": {},
   "outputs": [],
   "source": [
    "a = [1 ,2 ,3 ,4]\n",
    "result = [num*3 for num in a if num % 2 ==0]\n",
    "print(result)"
   ]
  },
  {
   "attachments": {},
   "cell_type": "markdown",
   "metadata": {},
   "source": [
    "### 예제\n",
    "\n",
    "A 학급에 총 10명의 학생이 있으며, 이 학생들의 중간고사 점수는 다음과 같습니다.\n",
    ">[80, 40, 83, 94, 90, 84, 56, 69, 98, 100]\n",
    "\n",
    "for 문을 사용하여 A 학급의 평균 점수를 구해봅시다."
   ]
  },
  {
   "cell_type": "code",
   "execution_count": null,
   "metadata": {},
   "outputs": [],
   "source": []
  },
  {
   "attachments": {},
   "cell_type": "markdown",
   "metadata": {},
   "source": [
    "### 예제2\n",
    "아래 코드는 주어진 리스트 중에서 홀수에만 2를 곱하여 저장하는 코드입니다.\n",
    "이를 리스트 내포를 사용하여 표현하여 봅시다."
   ]
  },
  {
   "cell_type": "code",
   "execution_count": null,
   "metadata": {},
   "outputs": [],
   "source": [
    "numbers = [1, 2, 3 ,4, 5]\n",
    "\n",
    "result = []\n",
    "for n in numbers:\n",
    "    if n % 2 == 1:\n",
    "        result.append(n*2)"
   ]
  }
 ],
 "metadata": {
  "kernelspec": {
   "display_name": "Python 3",
   "language": "python",
   "name": "python3"
  },
  "language_info": {
   "codemirror_mode": {
    "name": "ipython",
    "version": 3
   },
   "file_extension": ".py",
   "mimetype": "text/x-python",
   "name": "python",
   "nbconvert_exporter": "python",
   "pygments_lexer": "ipython3",
   "version": "3.11.2"
  },
  "orig_nbformat": 4
 },
 "nbformat": 4,
 "nbformat_minor": 2
}
