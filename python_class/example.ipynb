{
 "cells": [
  {
   "attachments": {},
   "cell_type": "markdown",
   "metadata": {},
   "source": [
    "# 예제 1\n",
    "자판기 프로그램을 완성해봅시다.\n",
    "\n",
    "<hr>\n",
    "메뉴를 선택해주세요.<br>\n",
    "1. 돈 넣기<br>\n",
    "2. 사이다 - 1400원<br>\n",
    "3. 초코에몽 - 1500원<br>\n",
    "4. 생수 - 1000원<br>\n",
    "5. 잔액 반환<br>\n",
    "<hr>\n",
    "\n",
    "## 돈 넣기를 선택한 경우\n",
    "돈을 넣어주세요:<br>\n",
    "현재 투입 금액은 _____원 입니다.<br>\n",
    "\n",
    "## 2, 3, 4를 선택한 경우\n",
    "## (예시는 사이다, 돈이 충분한 경우)\n",
    "사이다를 구입했습니다.<br>\n",
    "현재 잔액은 ______원 입니다.<br>\n",
    "\n",
    "## 2, 3, 4를 선택한 경우\n",
    "## (예시는 사이다, 돈이 충분하지 않은 경우)\n",
    "잔액이 부족합니다.<br>\n",
    "현재 잔액은 ______원 입니다.<br>\n",
    "\n",
    "## 잔액 반환을 선택한 경우\n",
    "잔액 ______를 반환합니다.<br>\n",
    "이용해주셔서 감사합니다.<br>"
   ]
  },
  {
   "cell_type": "code",
   "execution_count": null,
   "metadata": {},
   "outputs": [],
   "source": []
  },
  {
   "attachments": {},
   "cell_type": "markdown",
   "metadata": {},
   "source": [
    "# 예제 2\n",
    "\n",
    "__야구 게임 만들기__\n",
    "아래 출력문을 보고 만들어봅시다.<br>\n",
    "단 여기서는 random모듈을 사용합니다.\n",
    "\n",
    "```python\n",
    "import random\n",
    "\n",
    "numbers = []\n",
    "for i in range(3):\n",
    "    numbers.append(random.randint(0, 9))\n",
    "```\n",
    "<hr>\n",
    "***야구 게임 시작***<br>\n",
    "사용자 이름을 입력해주세요:\n",
    "\n",
    "<hr>\n",
    "___님의 성적은 0승 0패입니다.<br>\n",
    "1라운드를 시작합니다. 기회는 5번 입니다.<br>\n",
    "3자리 숫자를 입력해주세요:<br>\n",
    "\n",
    ">2볼 1스트라이크 입니다.<br>\n",
    "\n",
    "3자리 숫자를 입력해주세요:<br>\n",
    "\n",
    ">1볼 2스트라이크 입니다.\n"
   ]
  },
  {
   "cell_type": "code",
   "execution_count": 1,
   "metadata": {},
   "outputs": [],
   "source": []
  }
 ],
 "metadata": {
  "kernelspec": {
   "display_name": "Python 3",
   "language": "python",
   "name": "python3"
  },
  "language_info": {
   "codemirror_mode": {
    "name": "ipython",
    "version": 3
   },
   "file_extension": ".py",
   "mimetype": "text/x-python",
   "name": "python",
   "nbconvert_exporter": "python",
   "pygments_lexer": "ipython3",
   "version": "3.10.11"
  },
  "orig_nbformat": 4
 },
 "nbformat": 4,
 "nbformat_minor": 2
}
