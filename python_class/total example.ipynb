{
 "cells": [
  {
   "attachments": {},
   "cell_type": "markdown",
   "metadata": {},
   "source": [
    "# 연습문제 1\n",
    "a:b:c:d<br>\n",
    "라는 문자열이 주어져있을 때<br>\n"
   ]
  },
  {
   "cell_type": "code",
   "execution_count": null,
   "metadata": {},
   "outputs": [],
   "source": []
  },
  {
   "attachments": {},
   "cell_type": "markdown",
   "metadata": {},
   "source": [
    "# 연습 문제 2\n",
    "\n",
    "문자열 형식으로 입력받은 모스 부호(. 혹은 -)를 해독하여 영어 문장으로 출력하는 프로그램을 작성해봅시다.\n",
    "|문자|부호|문자|부호|\n",
    "|:---:|:---:|:---:|:---:|\n",
    "|A|.-|N|-.|\n",
    "|B|-...|O|---|\n",
    "|C|-.-.|P|.--.|\n",
    "|D|-..|Q|--.-|\n",
    "|E|.|R|.-.|\n",
    "|F|..-.|S|...|\n",
    "|G|--.|T|-|\n",
    "|H|....|U|..-|\n",
    "|I|..|V|...-|\n",
    "|J|.---|W|.--|\n",
    "|K|-.-|X|-..-|\n",
    "|L|.-..|Y|-.--|\n",
    "|M|--|Z|--..|\n",
    "\n",
    "* 글자와 글자 사이는 공백 1개\n",
    "* 단어와 단어 사이는 공백 2개로 구분합니다.\n",
    "* I AM HAPPY를 모스 부호로 나타내면 다음과 같습니다.\n",
    "> ..  .- --  .... .- .--. .--. -.--"
   ]
  },
  {
   "attachments": {},
   "cell_type": "markdown",
   "metadata": {},
   "source": []
  }
 ],
 "metadata": {
  "language_info": {
   "name": "python"
  },
  "orig_nbformat": 4
 },
 "nbformat": 4,
 "nbformat_minor": 2
}
